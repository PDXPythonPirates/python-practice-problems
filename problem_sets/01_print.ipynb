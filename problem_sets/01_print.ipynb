{
 "cells": [
  {
   "cell_type": "markdown",
   "metadata": {},
   "source": [
    "# The `print()` function.\n",
    "\n",
    "You can open this notebook on Google's interactive notebook environment, Colaboratory, by clicking [this link](https://githubtocolab.com/PDXPythonPirates/python-practice-problems/blob/main/problem_sets/01_print.ipynb).\n",
    "\n",
    "These exercises do not need to be completed in order, but they are generally ordered in increasing difficulty. The solutions provided _are not the only possible_ solution. Your's might look different, and that is okay!"
   ]
  },
  {
   "cell_type": "markdown",
   "metadata": {},
   "source": [
    "Exercise 1. Using the `print()` function, print at least four lines of your favorite poem or song lyrics. Do this on multiple lines."
   ]
  },
  {
   "cell_type": "code",
   "execution_count": null,
   "metadata": {},
   "outputs": [],
   "source": [
    "# Code solution here."
   ]
  },
  {
   "cell_type": "markdown",
   "metadata": {},
   "source": [
    "Solution: expand and run the cell below."
   ]
  },
  {
   "cell_type": "code",
   "execution_count": null,
   "metadata": {},
   "outputs": [],
   "source": [
    "# Expand for solution.\n",
    "\n",
    "print(\"And as we wind on down the road\")\n",
    "print(\"Our shadows taller than our soul.\")\n",
    "print(\"There walks a lady we all know\")\n",
    "print(\"Who shines white light and wants to show\")\n",
    "print(\"How everything still turns to gold.\")\n",
    "print(\"And if you listen very hard\")\n",
    "print(\"The tune will come to you at last.\")\n",
    "print(\"When all are one and one is all\")\n",
    "print(\"To be a rock and not to roll.\")"
   ]
  }
 ],
 "metadata": {
  "interpreter": {
   "hash": "aee8b7b246df8f9039afb4144a1f6fd8d2ca17a180786b69acc140d282b71a49"
  },
  "kernelspec": {
   "display_name": "Python 3.9.7 64-bit",
   "language": "python",
   "name": "python3"
  },
  "language_info": {
   "name": "python",
   "version": "3.9.7"
  },
  "orig_nbformat": 4
 },
 "nbformat": 4,
 "nbformat_minor": 2
}
