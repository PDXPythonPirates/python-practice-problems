{
 "cells": [
  {
   "cell_type": "markdown",
   "metadata": {},
   "source": [
    "# Print while modifying the newline argument\n",
    "\n",
    "Using the `time` module's `sleep()` function, print the string `'Waiting five seconds ...'`, then wait five seconds and print `'done waiting.`' on the same line of output.\n",
    "\n",
    "A little help on this one since we haven't covered importing modules at this point. Modules contain python code that falls outside of builtin functions, so they must be imported before they can be used. An example is provided in the next cell."
   ]
  },
  {
   "cell_type": "code",
   "execution_count": null,
   "metadata": {},
   "outputs": [],
   "source": [
    "from time import sleep\n",
    "\n",
    "sleep(3)\n",
    "print('This waited three seconds before printing.')"
   ]
  },
  {
   "cell_type": "markdown",
   "metadata": {},
   "source": [
    "The `print()` function has a keyword argument called `end`, which dictates what will be printed _after_ printing the values of the input objects. By default `end='\\n'`, which goes to the next line. That argument can be modified to accomplish the ask here."
   ]
  },
  {
   "cell_type": "code",
   "execution_count": null,
   "metadata": {},
   "outputs": [],
   "source": [
    "print('Waiting five seconds ...', end=' ')\n",
    "sleep(5)\n",
    "print('done waiting.')"
   ]
  }
 ],
 "metadata": {
  "interpreter": {
   "hash": "397704579725e15f5c7cb49fe5f0341eb7531c82d19f2c29d197e8b64ab5776b"
  },
  "kernelspec": {
   "display_name": "Python 3.9.7 64-bit",
   "language": "python",
   "name": "python3"
  },
  "language_info": {
   "codemirror_mode": {
    "name": "ipython",
    "version": 3
   },
   "file_extension": ".py",
   "mimetype": "text/x-python",
   "name": "python",
   "nbconvert_exporter": "python",
   "pygments_lexer": "ipython3",
   "version": "3.9.7"
  },
  "orig_nbformat": 4
 },
 "nbformat": 4,
 "nbformat_minor": 2
}
